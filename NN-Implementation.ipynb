{
 "cells": [
  {
   "cell_type": "code",
   "execution_count": 1,
   "id": "7460e7ec-8134-4a96-af51-362ec67651d2",
   "metadata": {},
   "outputs": [],
   "source": [
    "import pandas as pd"
   ]
  },
  {
   "cell_type": "code",
   "execution_count": 2,
   "id": "9c6cdfed-a65f-41e9-a6ab-7ab3bfa5d8ea",
   "metadata": {},
   "outputs": [
    {
     "name": "stdout",
     "output_type": "stream",
     "text": [
      "<class 'pandas.core.frame.DataFrame'>\n",
      "RangeIndex: 400 entries, 0 to 399\n",
      "Data columns (total 3 columns):\n",
      " #   Column           Non-Null Count  Dtype\n",
      "---  ------           --------------  -----\n",
      " 0   Age              400 non-null    int64\n",
      " 1   EstimatedSalary  400 non-null    int64\n",
      " 2   Purchased        400 non-null    int64\n",
      "dtypes: int64(3)\n",
      "memory usage: 9.5 KB\n"
     ]
    },
    {
     "data": {
      "text/plain": [
       "(None,\n",
       "    Age  EstimatedSalary  Purchased\n",
       " 0   19            19000          0\n",
       " 1   35            20000          0\n",
       " 2   26            43000          0\n",
       " 3   27            57000          0\n",
       " 4   19            76000          0)"
      ]
     },
     "execution_count": 2,
     "metadata": {},
     "output_type": "execute_result"
    }
   ],
   "source": [
    "# Load the dataset\n",
    "file_path = \"Social_Network_Ads.csv\"\n",
    "df = pd.read_csv(file_path)\n",
    "\n",
    "# Display basic information and first few rows\n",
    "df.info(), df.head()"
   ]
  },
  {
   "cell_type": "code",
   "execution_count": 3,
   "id": "ea0804ad-c290-45cd-af61-943f785c0e23",
   "metadata": {},
   "outputs": [
    {
     "data": {
      "text/plain": [
       "((320, 2), (80, 2), (320,), (80,))"
      ]
     },
     "execution_count": 3,
     "metadata": {},
     "output_type": "execute_result"
    }
   ],
   "source": [
    "from sklearn.model_selection import train_test_split\n",
    "from sklearn.preprocessing import StandardScaler\n",
    "\n",
    "# Separate features and target variable\n",
    "X = df[['Age', 'EstimatedSalary']].values\n",
    "y = df['Purchased'].values\n",
    "\n",
    "# Split into training and testing sets (80% train, 20% test)\n",
    "X_train, X_test, y_train, y_test = train_test_split(X, y, test_size=0.2, random_state=42)\n",
    "\n",
    "# Normalize features using StandardScaler\n",
    "scaler = StandardScaler()\n",
    "X_train = scaler.fit_transform(X_train)\n",
    "X_test = scaler.transform(X_test)\n",
    "\n",
    "# Verify the shape of the splits\n",
    "X_train.shape, X_test.shape, y_train.shape, y_test.shape"
   ]
  },
  {
   "cell_type": "code",
   "execution_count": 4,
   "id": "c1f3b691-66da-4ebb-afce-7ada6e09c629",
   "metadata": {},
   "outputs": [
    {
     "name": "stdout",
     "output_type": "stream",
     "text": [
      "Epoch 0, Loss: 0.3311\n",
      "Epoch 100, Loss: 0.1627\n",
      "Epoch 200, Loss: 0.1359\n",
      "Epoch 300, Loss: 0.1315\n",
      "Epoch 400, Loss: 0.1308\n",
      "Epoch 500, Loss: 0.1307\n",
      "Epoch 600, Loss: 0.1307\n",
      "Epoch 700, Loss: 0.1307\n",
      "Epoch 800, Loss: 0.1307\n",
      "Epoch 900, Loss: 0.1307\n"
     ]
    },
    {
     "data": {
      "text/plain": [
       "(array([0.26017436, 0.14529949]), np.float64(0.3593874468550853))"
      ]
     },
     "execution_count": 4,
     "metadata": {},
     "output_type": "execute_result"
    }
   ],
   "source": [
    "import numpy as np\n",
    "\n",
    "# Initialize parameters (weights and bias)\n",
    "np.random.seed(42)\n",
    "weights = np.random.randn(2)  # Two features\n",
    "bias = np.random.randn()\n",
    "\n",
    "# Define the learning rate and number of epochs\n",
    "learning_rate = 0.01\n",
    "epochs = 1000\n",
    "\n",
    "# Mean Squared Error (MSE) function\n",
    "def mse_loss(y_true, y_pred):\n",
    "    return np.mean((y_true - y_pred) ** 2)\n",
    "\n",
    "# Training loop\n",
    "for epoch in range(epochs):\n",
    "    # Forward propagation: Compute predictions\n",
    "    y_pred = np.dot(X_train, weights) + bias\n",
    "    \n",
    "    # Compute loss\n",
    "    loss = mse_loss(y_train, y_pred)\n",
    "    \n",
    "    # Compute gradients\n",
    "    error = y_pred - y_train\n",
    "    dW = np.dot(X_train.T, error) / len(X_train)  # Gradient w.r.t weights\n",
    "    dB = np.mean(error)  # Gradient w.r.t bias\n",
    "    \n",
    "    # Update weights and bias using gradient descent\n",
    "    weights -= learning_rate * dW\n",
    "    bias -= learning_rate * dB\n",
    "\n",
    "    # Print loss every 100 epochs\n",
    "    if epoch % 100 == 0:\n",
    "        print(f\"Epoch {epoch}, Loss: {loss:.4f}\")\n",
    "\n",
    "# Final weights and bias after training\n",
    "weights, bias"
   ]
  },
  {
   "cell_type": "code",
   "execution_count": 5,
   "id": "e92a6389-c487-44a5-a6f8-fae7ace2955d",
   "metadata": {},
   "outputs": [
    {
     "name": "stdout",
     "output_type": "stream",
     "text": [
      "Test Loss: 0.0992865541537975\n"
     ]
    }
   ],
   "source": [
    "# Make predictions on the test set\n",
    "y_test_pred = np.dot(X_test, weights) + bias\n",
    "\n",
    "# Compute test loss\n",
    "def mse_loss(y_true, y_pred):\n",
    "    return np.mean((y_true - y_pred) ** 2)\n",
    "\n",
    "test_loss = mse_loss(y_test, y_test_pred)\n",
    "print(\"Test Loss:\", test_loss)"
   ]
  },
  {
   "cell_type": "code",
   "execution_count": null,
   "id": "00194184-9083-4af4-8441-a984ae34b7cf",
   "metadata": {},
   "outputs": [],
   "source": []
  }
 ],
 "metadata": {
  "kernelspec": {
   "display_name": "Python 3 (ipykernel)",
   "language": "python",
   "name": "python3"
  },
  "language_info": {
   "codemirror_mode": {
    "name": "ipython",
    "version": 3
   },
   "file_extension": ".py",
   "mimetype": "text/x-python",
   "name": "python",
   "nbconvert_exporter": "python",
   "pygments_lexer": "ipython3",
   "version": "3.12.9"
  }
 },
 "nbformat": 4,
 "nbformat_minor": 5
}
